{
 "cells": [
  {
   "cell_type": "code",
   "execution_count": 2,
   "metadata": {},
   "outputs": [],
   "source": [
    "import torch\n",
    "import torchvision\n",
    "import torchvision.transforms as transforms\n",
    "import os\n",
    "from os.path import exists\n",
    "import torch\n",
    "import torch.nn as nn\n",
    "from torch.nn.functional import log_softmax, pad\n",
    "import math\n",
    "import copy\n",
    "import time\n",
    "from torch.optim.lr_scheduler import LambdaLR\n",
    "import pandas as pd\n",
    "import altair as alt\n",
    "from torch.utils.data import DataLoader\n",
    "import warnings\n",
    "from torch.utils.data.distributed import DistributedSampler\n",
    "import torch.distributed as dist\n",
    "import torch.multiprocessing as mp\n",
    "from torch.nn.parallel import DistributedDataParallel as DDP\n",
    "import torchvision.datasets as datasets\n",
    "import cv2 as cv\n",
    "import matplotlib.pyplot as plt\n",
    "import numpy as np\n",
    "%matplotlib inline\n",
    "# Set to False to skip notebook execution (e.g. for debugging)\n",
    "warnings.filterwarnings(\"ignore\")\n",
    "RUN_EXAMPLES = True"
   ]
  },
  {
   "cell_type": "code",
   "execution_count": 3,
   "metadata": {},
   "outputs": [],
   "source": [
    "#constants\n",
    "PATCH_SIZE = 4\n",
    "NUM_PATCHES = 28 // PATCH_SIZE #the number of patches in each dimension\n",
    "D_MODEL = 16 #the dimension of the embedding\n",
    "CLASSES = 10\n",
    "BATCH_SIZE = 2"
   ]
  },
  {
   "cell_type": "markdown",
   "metadata": {},
   "source": [
    "Now, load the MNIST training set and testing set."
   ]
  },
  {
   "cell_type": "code",
   "execution_count": 4,
   "metadata": {},
   "outputs": [],
   "source": [
    "mnist_trainset = datasets.MNIST(root='./data', train=True, download=True, transform=None)\n",
    "mnist_testset = datasets.MNIST(root='./data', train=False, download=True, transform=None)"
   ]
  },
  {
   "cell_type": "markdown",
   "metadata": {},
   "source": [
    "Here is the first entry in the training set."
   ]
  },
  {
   "cell_type": "code",
   "execution_count": 5,
   "metadata": {},
   "outputs": [
    {
     "data": {
      "text/plain": [
       "<matplotlib.image.AxesImage at 0x1682a3dc0>"
      ]
     },
     "execution_count": 5,
     "metadata": {},
     "output_type": "execute_result"
    },
    {
     "data": {
      "image/png": "[encoded data removed]",
      "text/plain": [
       "<Figure size 640x480 with 1 Axes>"
      ]
     },
     "metadata": {},
     "output_type": "display_data"
    }
   ],
   "source": [
    "plt.imshow(mnist_trainset[0][0], cmap='gray')"
   ]
  },
  {
   "cell_type": "markdown",
   "metadata": {},
   "source": [
    "Once the dataset has been loaded, the next step is to break the image into a series of 4x4 pixel images which will the tokens of the model."
   ]
  },
  {
   "cell_type": "code",
   "execution_count": 6,
   "metadata": {},
   "outputs": [],
   "source": [
    "def tokenize(img):\n",
    "    tensorImg = torch.tensor(np.array(img)).to(dtype=torch.float32); \n",
    "    tokens = [];\n",
    "    for i in range(NUM_PATCHES):\n",
    "        for j in range(NUM_PATCHES):\n",
    "            tokens.append(tensorImg[4 * i:4 * i + 4,4 * j:4 * j + 4].flatten())\n",
    "    return torch.stack(tokens)"
   ]
  },
  {
   "cell_type": "markdown",
   "metadata": {},
   "source": [
    "Class Embeddings takes in the 49x16 vector of the linearized patches and prepends a class token. It then passes them through linear functions and biases to be learned by the network."
   ]
  },
  {
   "cell_type": "code",
   "execution_count": 7,
   "metadata": {},
   "outputs": [],
   "source": [
    "class Embeddings(nn.Module):\n",
    "    def __init__(self, D_MODEL, BATCH_SIZE, PATCH_SIZE, NUM_PATCHES) -> None:\n",
    "        super().__init__()\n",
    "        self.D_MODEL = D_MODEL\n",
    "        self.BATCH_SIZE = BATCH_SIZE\n",
    "        self.lin = nn.Linear(PATCH_SIZE ** 2, D_MODEL)\n",
    "        self.pos = nn.Parameter(torch.randn(NUM_PATCHES ** 2 + 1, D_MODEL))\n",
    "        self.y_p = nn.Parameter(torch.randn(BATCH_SIZE, 1, D_MODEL))\n",
    "\n",
    "    def forward(self, x_p):\n",
    "        x_p = self.lin(x_p)\n",
    "        x_p = torch.cat((self.y_p, x_p), dim = -2)\n",
    "        return x_p + self.pos\n",
    "    "
   ]
  },
  {
   "cell_type": "markdown",
   "metadata": {},
   "source": [
    "Next, LayerNorm is made by passing in tokens so LayerNorm acts on the full embedding layer. It normalizes each patch."
   ]
  },
  {
   "cell_type": "code",
   "execution_count": 8,
   "metadata": {},
   "outputs": [],
   "source": [
    "class LayerNorm(nn.Module):\n",
    "    def __init__(self, tokens, eps=1e-6):\n",
    "        super().__init__()\n",
    "        self.a_2 = nn.Parameter(torch.ones(tokens))\n",
    "        self.b_2 = nn.Parameter(torch.zeros(tokens))\n",
    "        self.eps = eps\n",
    "    # this normalizes every patch and then normalizes across every patch\n",
    "    def forward(self, x):\n",
    "        mean = x.mean(-1, keepdim=True) #this takes the mean across the rows (patches)\n",
    "        std = x.std(-1, keepdim=True) #this takes the standard deviation across the rows (patches)\n",
    "        return self.a_2 * (x - mean) / (std + self.eps) + self.b_2"
   ]
  },
  {
   "cell_type": "code",
   "execution_count": 9,
   "metadata": {},
   "outputs": [],
   "source": [
    "class Classifier(nn.Module):\n",
    "    def __init__(self, D_MODEL, HIDDEN_SIZE, CLASSES, transformer, embeddings, pretrainingmlp):\n",
    "        super().__init__()\n",
    "        self.pretraining = pretrainingmlp\n",
    "        self.finetuning = nn.Linear(D_MODEL, CLASSES)\n",
    "        self.tr = transformer\n",
    "        self.em = embeddings\n",
    "    #def forward(self, x):"
   ]
  },
  {
   "cell_type": "code",
   "execution_count": 10,
   "metadata": {},
   "outputs": [],
   "source": [
    "class PreTrainingMLP(nn.Module):\n",
    "    def __init__(self, D_MODEL, HIDDEN_SIZE, CLASSES):\n",
    "        super().__init__()\n",
    "        self.fc = nn.Linear(D_MODEL, HIDDEN_SIZE)\n",
    "        self.gelu = nn.GELU()\n",
    "        self.fc2 = nn.Linear(HIDDEN_SIZE, CLASSES)\n",
    "        self.layers = nn.Sequential(self.fc, self.gelu, self.fc2)\n",
    "    def forward(self, x):\n",
    "        return self.layers(x)"
   ]
  },
  {
   "cell_type": "markdown",
   "metadata": {},
   "source": [
    "The transformer acts on the batches of vectors of linearized patches, and the final module is an MLP that acts on the prepended class token with one hidden layer at pretraining time and with a linear layer at fine tuning time."
   ]
  },
  {
   "cell_type": "code",
   "execution_count": 11,
   "metadata": {},
   "outputs": [],
   "source": [
    "tokens0 = tokenize(mnist_trainset[0][0])\n",
    "tokens1 = tokenize(mnist_trainset[1][0])\n",
    "lin = nn.Linear(16,10)"
   ]
  },
  {
   "cell_type": "code",
   "execution_count": 12,
   "metadata": {},
   "outputs": [],
   "source": [
    "em = Embeddings(D_MODEL, BATCH_SIZE, PATCH_SIZE, NUM_PATCHES)\n",
    "#print(em(tokens0)[0])\n"
   ]
  },
  {
   "cell_type": "code",
   "execution_count": 20,
   "metadata": {},
   "outputs": [
    {
     "data": {
      "text/plain": [
       "tensor([[[-3.4449e-01, -4.7864e-01, -2.8653e-01,  ..., -2.5952e-02,\n",
       "          -2.0521e-01,  1.3751e+00],\n",
       "         [-1.1327e+00,  1.1000e+00, -2.4194e-01,  ..., -1.2333e-01,\n",
       "           1.5435e+00,  1.5112e+00],\n",
       "         [-3.7864e-04, -7.6990e-01, -1.0475e+00,  ..., -3.9355e-01,\n",
       "           1.0118e+00, -6.2245e-01],\n",
       "         ...,\n",
       "         [-1.7807e+00, -6.8818e-01,  5.9281e-01,  ...,  3.1664e-01,\n",
       "           7.4327e-01,  2.6858e+00],\n",
       "         [ 5.0717e-02, -8.0919e-01, -1.6948e+00,  ...,  1.0464e+00,\n",
       "           1.2079e+00, -5.7070e-01],\n",
       "         [ 2.4583e+00, -8.4517e-01, -7.0536e-01,  ..., -1.0270e+00,\n",
       "           7.6805e-02, -8.2188e-01]],\n",
       "\n",
       "        [[ 8.2550e-01,  2.3085e-01,  1.0177e-01,  ..., -1.9093e+00,\n",
       "           8.6269e-01,  1.5456e+00],\n",
       "         [-1.1327e+00,  1.1000e+00, -2.4194e-01,  ..., -1.2333e-01,\n",
       "           1.5435e+00,  1.5112e+00],\n",
       "         [-3.7864e-04, -7.6990e-01, -1.0475e+00,  ..., -3.9355e-01,\n",
       "           1.0118e+00, -6.2245e-01],\n",
       "         ...,\n",
       "         [-1.7807e+00, -6.8818e-01,  5.9281e-01,  ...,  3.1664e-01,\n",
       "           7.4327e-01,  2.6858e+00],\n",
       "         [ 5.0717e-02, -8.0919e-01, -1.6948e+00,  ...,  1.0464e+00,\n",
       "           1.2079e+00, -5.7070e-01],\n",
       "         [ 2.4583e+00, -8.4517e-01, -7.0536e-01,  ..., -1.0270e+00,\n",
       "           7.6805e-02, -8.2188e-01]]], grad_fn=<AddBackward0>)"
      ]
     },
     "execution_count": 20,
     "metadata": {},
     "output_type": "execute_result"
    }
   ],
   "source": [
    "batch = torch.stack([tokens0,tokens1])\n",
    "batch.shape\n",
    "em(batch)\n",
    "# layernorm = LayerNorm(batch.shape)\n",
    "# normedBatch = layernorm(batch)\n",
    "# normedBatch.mean(-1, keepdim=True)"
   ]
  }
 ],
 "metadata": {
  "kernelspec": {
   "display_name": "Python 3.10.9 ('transformers')",
   "language": "python",
   "name": "python3"
  },
  "language_info": {
   "codemirror_mode": {
    "name": "ipython",
    "version": 3
   },
   "file_extension": ".py",
   "mimetype": "text/x-python",
   "name": "python",
   "nbconvert_exporter": "python",
   "pygments_lexer": "ipython3",
   "version": "3.10.9"
  },
  "orig_nbformat": 4,
  "vscode": {
   "interpreter": {
    "hash": "9ba8a54bdfbe6266d44988ffcb9c05a182edd09970840008bab6b2ff691b25c5"
   }
  }
 },
 "nbformat": 4,
 "nbformat_minor": 2
}
